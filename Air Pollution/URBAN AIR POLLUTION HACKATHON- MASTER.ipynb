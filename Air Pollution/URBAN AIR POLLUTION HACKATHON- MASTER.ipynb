{
 "cells": [
  {
   "cell_type": "markdown",
   "metadata": {},
   "source": [
    "## IMPORTING LIBRARIES"
   ]
  },
  {
   "cell_type": "code",
   "execution_count": 101,
   "metadata": {},
   "outputs": [],
   "source": [
    "import pandas as pd\n",
    "import numpy as np\n",
    "import matplotlib.pyplot as plt\n",
    "import seaborn as sns\n",
    "import warnings\n",
    "warnings.filterwarnings('ignore')\n",
    "import datetime\n",
    "\n",
    "from math import sqrt \n",
    "import lightgbm as lgb\n",
    "from sklearn.metrics import mean_squared_error \n",
    "from sklearn.model_selection import StratifiedKFold,KFold, train_test_split"
   ]
  },
  {
   "cell_type": "markdown",
   "metadata": {},
   "source": [
    "## IMPORTING DATASET"
   ]
  },
  {
   "cell_type": "code",
   "execution_count": 70,
   "metadata": {},
   "outputs": [],
   "source": [
    "train_df=pd.read_csv('Train.csv')\n",
    "train_df=train_df.drop(['Place_ID'],1)\n",
    "\n",
    "test_df=pd.read_csv('Test.csv')\n",
    "test_df=test_df.drop(['Place_ID'],1)"
   ]
  },
  {
   "cell_type": "markdown",
   "metadata": {},
   "source": [
    "# Data Pre-processing"
   ]
  },
  {
   "cell_type": "code",
   "execution_count": 71,
   "metadata": {
    "scrolled": true
   },
   "outputs": [
    {
     "data": {
      "text/plain": [
       "Index(['Place_ID X Date', 'Date', 'target', 'target_min', 'target_max',\n",
       "       'target_variance', 'target_count',\n",
       "       'precipitable_water_entire_atmosphere',\n",
       "       'relative_humidity_2m_above_ground',\n",
       "       'specific_humidity_2m_above_ground', 'temperature_2m_above_ground',\n",
       "       'u_component_of_wind_10m_above_ground',\n",
       "       'v_component_of_wind_10m_above_ground',\n",
       "       'L3_NO2_NO2_column_number_density',\n",
       "       'L3_NO2_NO2_slant_column_number_density',\n",
       "       'L3_NO2_absorbing_aerosol_index', 'L3_NO2_cloud_fraction',\n",
       "       'L3_NO2_sensor_altitude', 'L3_NO2_sensor_azimuth_angle',\n",
       "       'L3_NO2_sensor_zenith_angle', 'L3_NO2_solar_azimuth_angle',\n",
       "       'L3_NO2_solar_zenith_angle',\n",
       "       'L3_NO2_stratospheric_NO2_column_number_density',\n",
       "       'L3_NO2_tropopause_pressure',\n",
       "       'L3_NO2_tropospheric_NO2_column_number_density',\n",
       "       'L3_O3_O3_column_number_density', 'L3_O3_O3_effective_temperature',\n",
       "       'L3_O3_cloud_fraction', 'L3_O3_sensor_azimuth_angle',\n",
       "       'L3_O3_sensor_zenith_angle', 'L3_O3_solar_azimuth_angle',\n",
       "       'L3_O3_solar_zenith_angle', 'L3_CO_CO_column_number_density',\n",
       "       'L3_CO_H2O_column_number_density', 'L3_CO_cloud_height',\n",
       "       'L3_CO_sensor_altitude', 'L3_CO_sensor_azimuth_angle',\n",
       "       'L3_CO_sensor_zenith_angle', 'L3_CO_solar_azimuth_angle',\n",
       "       'L3_CO_solar_zenith_angle', 'L3_HCHO_HCHO_slant_column_number_density',\n",
       "       'L3_HCHO_cloud_fraction', 'L3_HCHO_sensor_azimuth_angle',\n",
       "       'L3_HCHO_sensor_zenith_angle', 'L3_HCHO_solar_azimuth_angle',\n",
       "       'L3_HCHO_solar_zenith_angle',\n",
       "       'L3_HCHO_tropospheric_HCHO_column_number_density',\n",
       "       'L3_HCHO_tropospheric_HCHO_column_number_density_amf',\n",
       "       'L3_CLOUD_cloud_base_height', 'L3_CLOUD_cloud_base_pressure',\n",
       "       'L3_CLOUD_cloud_fraction', 'L3_CLOUD_cloud_optical_depth',\n",
       "       'L3_CLOUD_cloud_top_height', 'L3_CLOUD_cloud_top_pressure',\n",
       "       'L3_CLOUD_sensor_azimuth_angle', 'L3_CLOUD_sensor_zenith_angle',\n",
       "       'L3_CLOUD_solar_azimuth_angle', 'L3_CLOUD_solar_zenith_angle',\n",
       "       'L3_CLOUD_surface_albedo', 'L3_AER_AI_absorbing_aerosol_index',\n",
       "       'L3_AER_AI_sensor_altitude', 'L3_AER_AI_sensor_azimuth_angle',\n",
       "       'L3_AER_AI_sensor_zenith_angle', 'L3_AER_AI_solar_azimuth_angle',\n",
       "       'L3_AER_AI_solar_zenith_angle', 'L3_SO2_SO2_column_number_density',\n",
       "       'L3_SO2_SO2_column_number_density_amf',\n",
       "       'L3_SO2_SO2_slant_column_number_density',\n",
       "       'L3_SO2_absorbing_aerosol_index', 'L3_SO2_cloud_fraction',\n",
       "       'L3_SO2_sensor_azimuth_angle', 'L3_SO2_sensor_zenith_angle',\n",
       "       'L3_SO2_solar_azimuth_angle', 'L3_SO2_solar_zenith_angle',\n",
       "       'L3_CH4_CH4_column_volume_mixing_ratio_dry_air',\n",
       "       'L3_CH4_aerosol_height', 'L3_CH4_aerosol_optical_depth',\n",
       "       'L3_CH4_sensor_azimuth_angle', 'L3_CH4_sensor_zenith_angle',\n",
       "       'L3_CH4_solar_azimuth_angle', 'L3_CH4_solar_zenith_angle'],\n",
       "      dtype='object')"
      ]
     },
     "execution_count": 71,
     "metadata": {},
     "output_type": "execute_result"
    }
   ],
   "source": [
    "train_df.columns"
   ]
  },
  {
   "cell_type": "code",
   "execution_count": 72,
   "metadata": {},
   "outputs": [
    {
     "data": {
      "text/plain": [
       "((30557, 81), (16136, 76))"
      ]
     },
     "execution_count": 72,
     "metadata": {},
     "output_type": "execute_result"
    }
   ],
   "source": [
    "train_df.shape,test_df.shape"
   ]
  },
  {
   "cell_type": "code",
   "execution_count": 73,
   "metadata": {},
   "outputs": [
    {
     "data": {
      "text/html": [
       "<div>\n",
       "<style scoped>\n",
       "    .dataframe tbody tr th:only-of-type {\n",
       "        vertical-align: middle;\n",
       "    }\n",
       "\n",
       "    .dataframe tbody tr th {\n",
       "        vertical-align: top;\n",
       "    }\n",
       "\n",
       "    .dataframe thead th {\n",
       "        text-align: right;\n",
       "    }\n",
       "</style>\n",
       "<table border=\"1\" class=\"dataframe\">\n",
       "  <thead>\n",
       "    <tr style=\"text-align: right;\">\n",
       "      <th></th>\n",
       "      <th>Place_ID X Date</th>\n",
       "      <th>Date</th>\n",
       "      <th>target</th>\n",
       "      <th>target_min</th>\n",
       "      <th>target_max</th>\n",
       "      <th>target_variance</th>\n",
       "      <th>target_count</th>\n",
       "      <th>precipitable_water_entire_atmosphere</th>\n",
       "      <th>relative_humidity_2m_above_ground</th>\n",
       "      <th>specific_humidity_2m_above_ground</th>\n",
       "      <th>...</th>\n",
       "      <th>L3_SO2_sensor_zenith_angle</th>\n",
       "      <th>L3_SO2_solar_azimuth_angle</th>\n",
       "      <th>L3_SO2_solar_zenith_angle</th>\n",
       "      <th>L3_CH4_CH4_column_volume_mixing_ratio_dry_air</th>\n",
       "      <th>L3_CH4_aerosol_height</th>\n",
       "      <th>L3_CH4_aerosol_optical_depth</th>\n",
       "      <th>L3_CH4_sensor_azimuth_angle</th>\n",
       "      <th>L3_CH4_sensor_zenith_angle</th>\n",
       "      <th>L3_CH4_solar_azimuth_angle</th>\n",
       "      <th>L3_CH4_solar_zenith_angle</th>\n",
       "    </tr>\n",
       "  </thead>\n",
       "  <tbody>\n",
       "    <tr>\n",
       "      <th>0</th>\n",
       "      <td>010Q650 X 2020-01-02</td>\n",
       "      <td>1/2/2020</td>\n",
       "      <td>38.0</td>\n",
       "      <td>23.0</td>\n",
       "      <td>53.0</td>\n",
       "      <td>769.50</td>\n",
       "      <td>92</td>\n",
       "      <td>11.0</td>\n",
       "      <td>60.200001</td>\n",
       "      <td>0.00804</td>\n",
       "      <td>...</td>\n",
       "      <td>38.593017</td>\n",
       "      <td>-61.752587</td>\n",
       "      <td>22.363665</td>\n",
       "      <td>1793.793579</td>\n",
       "      <td>3227.855469</td>\n",
       "      <td>0.010579</td>\n",
       "      <td>74.481049</td>\n",
       "      <td>37.501499</td>\n",
       "      <td>-62.142639</td>\n",
       "      <td>22.545118</td>\n",
       "    </tr>\n",
       "    <tr>\n",
       "      <th>1</th>\n",
       "      <td>010Q650 X 2020-01-03</td>\n",
       "      <td>1/3/2020</td>\n",
       "      <td>39.0</td>\n",
       "      <td>25.0</td>\n",
       "      <td>63.0</td>\n",
       "      <td>1319.85</td>\n",
       "      <td>91</td>\n",
       "      <td>14.6</td>\n",
       "      <td>48.799999</td>\n",
       "      <td>0.00839</td>\n",
       "      <td>...</td>\n",
       "      <td>59.624912</td>\n",
       "      <td>-67.693509</td>\n",
       "      <td>28.614804</td>\n",
       "      <td>1789.960449</td>\n",
       "      <td>3384.226563</td>\n",
       "      <td>0.015104</td>\n",
       "      <td>75.630043</td>\n",
       "      <td>55.657486</td>\n",
       "      <td>-53.868134</td>\n",
       "      <td>19.293652</td>\n",
       "    </tr>\n",
       "    <tr>\n",
       "      <th>2</th>\n",
       "      <td>010Q650 X 2020-01-04</td>\n",
       "      <td>1/4/2020</td>\n",
       "      <td>24.0</td>\n",
       "      <td>8.0</td>\n",
       "      <td>56.0</td>\n",
       "      <td>1181.96</td>\n",
       "      <td>96</td>\n",
       "      <td>16.4</td>\n",
       "      <td>33.400002</td>\n",
       "      <td>0.00750</td>\n",
       "      <td>...</td>\n",
       "      <td>49.839714</td>\n",
       "      <td>-78.342701</td>\n",
       "      <td>34.296977</td>\n",
       "      <td>NaN</td>\n",
       "      <td>NaN</td>\n",
       "      <td>NaN</td>\n",
       "      <td>NaN</td>\n",
       "      <td>NaN</td>\n",
       "      <td>NaN</td>\n",
       "      <td>NaN</td>\n",
       "    </tr>\n",
       "  </tbody>\n",
       "</table>\n",
       "<p>3 rows × 81 columns</p>\n",
       "</div>"
      ],
      "text/plain": [
       "        Place_ID X Date      Date  target  target_min  target_max  \\\n",
       "0  010Q650 X 2020-01-02  1/2/2020    38.0        23.0        53.0   \n",
       "1  010Q650 X 2020-01-03  1/3/2020    39.0        25.0        63.0   \n",
       "2  010Q650 X 2020-01-04  1/4/2020    24.0         8.0        56.0   \n",
       "\n",
       "   target_variance  target_count  precipitable_water_entire_atmosphere  \\\n",
       "0           769.50            92                                  11.0   \n",
       "1          1319.85            91                                  14.6   \n",
       "2          1181.96            96                                  16.4   \n",
       "\n",
       "   relative_humidity_2m_above_ground  specific_humidity_2m_above_ground  ...  \\\n",
       "0                          60.200001                            0.00804  ...   \n",
       "1                          48.799999                            0.00839  ...   \n",
       "2                          33.400002                            0.00750  ...   \n",
       "\n",
       "   L3_SO2_sensor_zenith_angle  L3_SO2_solar_azimuth_angle  \\\n",
       "0                   38.593017                  -61.752587   \n",
       "1                   59.624912                  -67.693509   \n",
       "2                   49.839714                  -78.342701   \n",
       "\n",
       "   L3_SO2_solar_zenith_angle  L3_CH4_CH4_column_volume_mixing_ratio_dry_air  \\\n",
       "0                  22.363665                                    1793.793579   \n",
       "1                  28.614804                                    1789.960449   \n",
       "2                  34.296977                                            NaN   \n",
       "\n",
       "   L3_CH4_aerosol_height  L3_CH4_aerosol_optical_depth  \\\n",
       "0            3227.855469                      0.010579   \n",
       "1            3384.226563                      0.015104   \n",
       "2                    NaN                           NaN   \n",
       "\n",
       "   L3_CH4_sensor_azimuth_angle  L3_CH4_sensor_zenith_angle  \\\n",
       "0                    74.481049                   37.501499   \n",
       "1                    75.630043                   55.657486   \n",
       "2                          NaN                         NaN   \n",
       "\n",
       "   L3_CH4_solar_azimuth_angle  L3_CH4_solar_zenith_angle  \n",
       "0                  -62.142639                  22.545118  \n",
       "1                  -53.868134                  19.293652  \n",
       "2                         NaN                        NaN  \n",
       "\n",
       "[3 rows x 81 columns]"
      ]
     },
     "execution_count": 73,
     "metadata": {},
     "output_type": "execute_result"
    }
   ],
   "source": [
    "train_df.head(3)"
   ]
  },
  {
   "cell_type": "code",
   "execution_count": 74,
   "metadata": {},
   "outputs": [
    {
     "data": {
      "text/html": [
       "<div>\n",
       "<style scoped>\n",
       "    .dataframe tbody tr th:only-of-type {\n",
       "        vertical-align: middle;\n",
       "    }\n",
       "\n",
       "    .dataframe tbody tr th {\n",
       "        vertical-align: top;\n",
       "    }\n",
       "\n",
       "    .dataframe thead th {\n",
       "        text-align: right;\n",
       "    }\n",
       "</style>\n",
       "<table border=\"1\" class=\"dataframe\">\n",
       "  <thead>\n",
       "    <tr style=\"text-align: right;\">\n",
       "      <th></th>\n",
       "      <th>Place_ID X Date</th>\n",
       "      <th>Date</th>\n",
       "      <th>precipitable_water_entire_atmosphere</th>\n",
       "      <th>relative_humidity_2m_above_ground</th>\n",
       "      <th>specific_humidity_2m_above_ground</th>\n",
       "      <th>temperature_2m_above_ground</th>\n",
       "      <th>u_component_of_wind_10m_above_ground</th>\n",
       "      <th>v_component_of_wind_10m_above_ground</th>\n",
       "      <th>L3_NO2_NO2_column_number_density</th>\n",
       "      <th>L3_NO2_NO2_slant_column_number_density</th>\n",
       "      <th>...</th>\n",
       "      <th>L3_SO2_sensor_zenith_angle</th>\n",
       "      <th>L3_SO2_solar_azimuth_angle</th>\n",
       "      <th>L3_SO2_solar_zenith_angle</th>\n",
       "      <th>L3_CH4_CH4_column_volume_mixing_ratio_dry_air</th>\n",
       "      <th>L3_CH4_aerosol_height</th>\n",
       "      <th>L3_CH4_aerosol_optical_depth</th>\n",
       "      <th>L3_CH4_sensor_azimuth_angle</th>\n",
       "      <th>L3_CH4_sensor_zenith_angle</th>\n",
       "      <th>L3_CH4_solar_azimuth_angle</th>\n",
       "      <th>L3_CH4_solar_zenith_angle</th>\n",
       "    </tr>\n",
       "  </thead>\n",
       "  <tbody>\n",
       "    <tr>\n",
       "      <th>0</th>\n",
       "      <td>0OS9LVX X 2020-01-02</td>\n",
       "      <td>1/2/2020</td>\n",
       "      <td>11.600000</td>\n",
       "      <td>30.200001</td>\n",
       "      <td>0.00409</td>\n",
       "      <td>14.656824</td>\n",
       "      <td>3.956377</td>\n",
       "      <td>0.712605</td>\n",
       "      <td>0.000053</td>\n",
       "      <td>0.000108</td>\n",
       "      <td>...</td>\n",
       "      <td>1.445658</td>\n",
       "      <td>-95.984984</td>\n",
       "      <td>22.942019</td>\n",
       "      <td>NaN</td>\n",
       "      <td>NaN</td>\n",
       "      <td>NaN</td>\n",
       "      <td>NaN</td>\n",
       "      <td>NaN</td>\n",
       "      <td>NaN</td>\n",
       "      <td>NaN</td>\n",
       "    </tr>\n",
       "    <tr>\n",
       "      <th>1</th>\n",
       "      <td>0OS9LVX X 2020-01-03</td>\n",
       "      <td>1/3/2020</td>\n",
       "      <td>18.300001</td>\n",
       "      <td>42.900002</td>\n",
       "      <td>0.00595</td>\n",
       "      <td>15.026544</td>\n",
       "      <td>4.230430</td>\n",
       "      <td>0.661892</td>\n",
       "      <td>0.000050</td>\n",
       "      <td>0.000109</td>\n",
       "      <td>...</td>\n",
       "      <td>34.641758</td>\n",
       "      <td>-95.014908</td>\n",
       "      <td>18.539116</td>\n",
       "      <td>NaN</td>\n",
       "      <td>NaN</td>\n",
       "      <td>NaN</td>\n",
       "      <td>NaN</td>\n",
       "      <td>NaN</td>\n",
       "      <td>NaN</td>\n",
       "      <td>NaN</td>\n",
       "    </tr>\n",
       "    <tr>\n",
       "      <th>2</th>\n",
       "      <td>0OS9LVX X 2020-01-04</td>\n",
       "      <td>1/4/2020</td>\n",
       "      <td>17.600000</td>\n",
       "      <td>41.299999</td>\n",
       "      <td>0.00590</td>\n",
       "      <td>15.511041</td>\n",
       "      <td>5.245728</td>\n",
       "      <td>1.640559</td>\n",
       "      <td>0.000050</td>\n",
       "      <td>0.000134</td>\n",
       "      <td>...</td>\n",
       "      <td>55.872276</td>\n",
       "      <td>-94.015418</td>\n",
       "      <td>14.140820</td>\n",
       "      <td>NaN</td>\n",
       "      <td>NaN</td>\n",
       "      <td>NaN</td>\n",
       "      <td>NaN</td>\n",
       "      <td>NaN</td>\n",
       "      <td>NaN</td>\n",
       "      <td>NaN</td>\n",
       "    </tr>\n",
       "  </tbody>\n",
       "</table>\n",
       "<p>3 rows × 76 columns</p>\n",
       "</div>"
      ],
      "text/plain": [
       "        Place_ID X Date      Date  precipitable_water_entire_atmosphere  \\\n",
       "0  0OS9LVX X 2020-01-02  1/2/2020                             11.600000   \n",
       "1  0OS9LVX X 2020-01-03  1/3/2020                             18.300001   \n",
       "2  0OS9LVX X 2020-01-04  1/4/2020                             17.600000   \n",
       "\n",
       "   relative_humidity_2m_above_ground  specific_humidity_2m_above_ground  \\\n",
       "0                          30.200001                            0.00409   \n",
       "1                          42.900002                            0.00595   \n",
       "2                          41.299999                            0.00590   \n",
       "\n",
       "   temperature_2m_above_ground  u_component_of_wind_10m_above_ground  \\\n",
       "0                    14.656824                              3.956377   \n",
       "1                    15.026544                              4.230430   \n",
       "2                    15.511041                              5.245728   \n",
       "\n",
       "   v_component_of_wind_10m_above_ground  L3_NO2_NO2_column_number_density  \\\n",
       "0                              0.712605                          0.000053   \n",
       "1                              0.661892                          0.000050   \n",
       "2                              1.640559                          0.000050   \n",
       "\n",
       "   L3_NO2_NO2_slant_column_number_density  ...  L3_SO2_sensor_zenith_angle  \\\n",
       "0                                0.000108  ...                    1.445658   \n",
       "1                                0.000109  ...                   34.641758   \n",
       "2                                0.000134  ...                   55.872276   \n",
       "\n",
       "   L3_SO2_solar_azimuth_angle  L3_SO2_solar_zenith_angle  \\\n",
       "0                  -95.984984                  22.942019   \n",
       "1                  -95.014908                  18.539116   \n",
       "2                  -94.015418                  14.140820   \n",
       "\n",
       "   L3_CH4_CH4_column_volume_mixing_ratio_dry_air  L3_CH4_aerosol_height  \\\n",
       "0                                            NaN                    NaN   \n",
       "1                                            NaN                    NaN   \n",
       "2                                            NaN                    NaN   \n",
       "\n",
       "   L3_CH4_aerosol_optical_depth  L3_CH4_sensor_azimuth_angle  \\\n",
       "0                           NaN                          NaN   \n",
       "1                           NaN                          NaN   \n",
       "2                           NaN                          NaN   \n",
       "\n",
       "   L3_CH4_sensor_zenith_angle  L3_CH4_solar_azimuth_angle  \\\n",
       "0                         NaN                         NaN   \n",
       "1                         NaN                         NaN   \n",
       "2                         NaN                         NaN   \n",
       "\n",
       "   L3_CH4_solar_zenith_angle  \n",
       "0                        NaN  \n",
       "1                        NaN  \n",
       "2                        NaN  \n",
       "\n",
       "[3 rows x 76 columns]"
      ]
     },
     "execution_count": 74,
     "metadata": {},
     "output_type": "execute_result"
    }
   ],
   "source": [
    "test_df.head(3)"
   ]
  },
  {
   "cell_type": "code",
   "execution_count": 75,
   "metadata": {
    "scrolled": true
   },
   "outputs": [
    {
     "name": "stdout",
     "output_type": "stream",
     "text": [
      "<class 'pandas.core.frame.DataFrame'>\n",
      "RangeIndex: 30557 entries, 0 to 30556\n",
      "Data columns (total 81 columns):\n",
      " #   Column                                               Non-Null Count  Dtype  \n",
      "---  ------                                               --------------  -----  \n",
      " 0   Place_ID X Date                                      30557 non-null  object \n",
      " 1   Date                                                 30557 non-null  object \n",
      " 2   target                                               30557 non-null  float64\n",
      " 3   target_min                                           30557 non-null  float64\n",
      " 4   target_max                                           30557 non-null  float64\n",
      " 5   target_variance                                      30557 non-null  float64\n",
      " 6   target_count                                         30557 non-null  int64  \n",
      " 7   precipitable_water_entire_atmosphere                 30557 non-null  float64\n",
      " 8   relative_humidity_2m_above_ground                    30557 non-null  float64\n",
      " 9   specific_humidity_2m_above_ground                    30557 non-null  float64\n",
      " 10  temperature_2m_above_ground                          30557 non-null  float64\n",
      " 11  u_component_of_wind_10m_above_ground                 30557 non-null  float64\n",
      " 12  v_component_of_wind_10m_above_ground                 30557 non-null  float64\n",
      " 13  L3_NO2_NO2_column_number_density                     28368 non-null  float64\n",
      " 14  L3_NO2_NO2_slant_column_number_density               28368 non-null  float64\n",
      " 15  L3_NO2_absorbing_aerosol_index                       28368 non-null  float64\n",
      " 16  L3_NO2_cloud_fraction                                28368 non-null  float64\n",
      " 17  L3_NO2_sensor_altitude                               28368 non-null  float64\n",
      " 18  L3_NO2_sensor_azimuth_angle                          28367 non-null  float64\n",
      " 19  L3_NO2_sensor_zenith_angle                           28367 non-null  float64\n",
      " 20  L3_NO2_solar_azimuth_angle                           28367 non-null  float64\n",
      " 21  L3_NO2_solar_zenith_angle                            28367 non-null  float64\n",
      " 22  L3_NO2_stratospheric_NO2_column_number_density       28367 non-null  float64\n",
      " 23  L3_NO2_tropopause_pressure                           28367 non-null  float64\n",
      " 24  L3_NO2_tropospheric_NO2_column_number_density        21888 non-null  float64\n",
      " 25  L3_O3_O3_column_number_density                       30274 non-null  float64\n",
      " 26  L3_O3_O3_effective_temperature                       30274 non-null  float64\n",
      " 27  L3_O3_cloud_fraction                                 30274 non-null  float64\n",
      " 28  L3_O3_sensor_azimuth_angle                           30274 non-null  float64\n",
      " 29  L3_O3_sensor_zenith_angle                            30274 non-null  float64\n",
      " 30  L3_O3_solar_azimuth_angle                            30274 non-null  float64\n",
      " 31  L3_O3_solar_zenith_angle                             30274 non-null  float64\n",
      " 32  L3_CO_CO_column_number_density                       25134 non-null  float64\n",
      " 33  L3_CO_H2O_column_number_density                      25134 non-null  float64\n",
      " 34  L3_CO_cloud_height                                   25134 non-null  float64\n",
      " 35  L3_CO_sensor_altitude                                25134 non-null  float64\n",
      " 36  L3_CO_sensor_azimuth_angle                           25134 non-null  float64\n",
      " 37  L3_CO_sensor_zenith_angle                            25134 non-null  float64\n",
      " 38  L3_CO_solar_azimuth_angle                            25134 non-null  float64\n",
      " 39  L3_CO_solar_zenith_angle                             25134 non-null  float64\n",
      " 40  L3_HCHO_HCHO_slant_column_number_density             23132 non-null  float64\n",
      " 41  L3_HCHO_cloud_fraction                               23132 non-null  float64\n",
      " 42  L3_HCHO_sensor_azimuth_angle                         23132 non-null  float64\n",
      " 43  L3_HCHO_sensor_zenith_angle                          23132 non-null  float64\n",
      " 44  L3_HCHO_solar_azimuth_angle                          23132 non-null  float64\n",
      " 45  L3_HCHO_solar_zenith_angle                           23132 non-null  float64\n",
      " 46  L3_HCHO_tropospheric_HCHO_column_number_density      23132 non-null  float64\n",
      " 47  L3_HCHO_tropospheric_HCHO_column_number_density_amf  23132 non-null  float64\n",
      " 48  L3_CLOUD_cloud_base_height                           29035 non-null  float64\n",
      " 49  L3_CLOUD_cloud_base_pressure                         29035 non-null  float64\n",
      " 50  L3_CLOUD_cloud_fraction                              30183 non-null  float64\n",
      " 51  L3_CLOUD_cloud_optical_depth                         29035 non-null  float64\n",
      " 52  L3_CLOUD_cloud_top_height                            29035 non-null  float64\n",
      " 53  L3_CLOUD_cloud_top_pressure                          29035 non-null  float64\n",
      " 54  L3_CLOUD_sensor_azimuth_angle                        30183 non-null  float64\n",
      " 55  L3_CLOUD_sensor_zenith_angle                         30183 non-null  float64\n",
      " 56  L3_CLOUD_solar_azimuth_angle                         30183 non-null  float64\n",
      " 57  L3_CLOUD_solar_zenith_angle                          30183 non-null  float64\n",
      " 58  L3_CLOUD_surface_albedo                              29035 non-null  float64\n",
      " 59  L3_AER_AI_absorbing_aerosol_index                    30360 non-null  float64\n",
      " 60  L3_AER_AI_sensor_altitude                            30360 non-null  float64\n",
      " 61  L3_AER_AI_sensor_azimuth_angle                       30360 non-null  float64\n",
      " 62  L3_AER_AI_sensor_zenith_angle                        30360 non-null  float64\n",
      " 63  L3_AER_AI_solar_azimuth_angle                        30360 non-null  float64\n",
      " 64  L3_AER_AI_solar_zenith_angle                         30360 non-null  float64\n",
      " 65  L3_SO2_SO2_column_number_density                     23320 non-null  float64\n",
      " 66  L3_SO2_SO2_column_number_density_amf                 23320 non-null  float64\n",
      " 67  L3_SO2_SO2_slant_column_number_density               23320 non-null  float64\n",
      " 68  L3_SO2_absorbing_aerosol_index                       23249 non-null  float64\n",
      " 69  L3_SO2_cloud_fraction                                23320 non-null  float64\n",
      " 70  L3_SO2_sensor_azimuth_angle                          23320 non-null  float64\n",
      " 71  L3_SO2_sensor_zenith_angle                           23320 non-null  float64\n",
      " 72  L3_SO2_solar_azimuth_angle                           23320 non-null  float64\n",
      " 73  L3_SO2_solar_zenith_angle                            23320 non-null  float64\n",
      " 74  L3_CH4_CH4_column_volume_mixing_ratio_dry_air        5792 non-null   float64\n",
      " 75  L3_CH4_aerosol_height                                5792 non-null   float64\n",
      " 76  L3_CH4_aerosol_optical_depth                         5792 non-null   float64\n",
      " 77  L3_CH4_sensor_azimuth_angle                          5792 non-null   float64\n",
      " 78  L3_CH4_sensor_zenith_angle                           5792 non-null   float64\n",
      " 79  L3_CH4_solar_azimuth_angle                           5792 non-null   float64\n",
      " 80  L3_CH4_solar_zenith_angle                            5792 non-null   float64\n",
      "dtypes: float64(78), int64(1), object(2)\n",
      "memory usage: 18.9+ MB\n"
     ]
    }
   ],
   "source": [
    "train_df.info()"
   ]
  },
  {
   "cell_type": "code",
   "execution_count": 76,
   "metadata": {
    "scrolled": true
   },
   "outputs": [
    {
     "data": {
      "text/plain": [
       "L3_NO2_solar_zenith_angle                               2190\n",
       "L3_NO2_stratospheric_NO2_column_number_density          2190\n",
       "L3_NO2_tropopause_pressure                              2190\n",
       "L3_NO2_tropospheric_NO2_column_number_density           8669\n",
       "L3_O3_O3_column_number_density                           283\n",
       "L3_O3_O3_effective_temperature                           283\n",
       "L3_O3_cloud_fraction                                     283\n",
       "L3_O3_sensor_azimuth_angle                               283\n",
       "L3_O3_sensor_zenith_angle                                283\n",
       "L3_O3_solar_azimuth_angle                                283\n",
       "L3_O3_solar_zenith_angle                                 283\n",
       "L3_CO_CO_column_number_density                          5423\n",
       "L3_CO_H2O_column_number_density                         5423\n",
       "L3_CO_cloud_height                                      5423\n",
       "L3_CO_sensor_altitude                                   5423\n",
       "L3_CO_sensor_azimuth_angle                              5423\n",
       "L3_CO_sensor_zenith_angle                               5423\n",
       "L3_CO_solar_azimuth_angle                               5423\n",
       "L3_CO_solar_zenith_angle                                5423\n",
       "L3_HCHO_HCHO_slant_column_number_density                7425\n",
       "L3_HCHO_cloud_fraction                                  7425\n",
       "L3_HCHO_sensor_azimuth_angle                            7425\n",
       "L3_HCHO_sensor_zenith_angle                             7425\n",
       "L3_HCHO_solar_azimuth_angle                             7425\n",
       "L3_HCHO_solar_zenith_angle                              7425\n",
       "L3_HCHO_tropospheric_HCHO_column_number_density         7425\n",
       "L3_HCHO_tropospheric_HCHO_column_number_density_amf     7425\n",
       "L3_CLOUD_cloud_base_height                              1522\n",
       "L3_CLOUD_cloud_base_pressure                            1522\n",
       "L3_CLOUD_cloud_fraction                                  374\n",
       "L3_CLOUD_cloud_optical_depth                            1522\n",
       "L3_CLOUD_cloud_top_height                               1522\n",
       "L3_CLOUD_cloud_top_pressure                             1522\n",
       "L3_CLOUD_sensor_azimuth_angle                            374\n",
       "L3_CLOUD_sensor_zenith_angle                             374\n",
       "L3_CLOUD_solar_azimuth_angle                             374\n",
       "L3_CLOUD_solar_zenith_angle                              374\n",
       "L3_CLOUD_surface_albedo                                 1522\n",
       "L3_AER_AI_absorbing_aerosol_index                        197\n",
       "L3_AER_AI_sensor_altitude                                197\n",
       "L3_AER_AI_sensor_azimuth_angle                           197\n",
       "L3_AER_AI_sensor_zenith_angle                            197\n",
       "L3_AER_AI_solar_azimuth_angle                            197\n",
       "L3_AER_AI_solar_zenith_angle                             197\n",
       "L3_SO2_SO2_column_number_density                        7237\n",
       "L3_SO2_SO2_column_number_density_amf                    7237\n",
       "L3_SO2_SO2_slant_column_number_density                  7237\n",
       "L3_SO2_absorbing_aerosol_index                          7308\n",
       "L3_SO2_cloud_fraction                                   7237\n",
       "L3_SO2_sensor_azimuth_angle                             7237\n",
       "L3_SO2_sensor_zenith_angle                              7237\n",
       "L3_SO2_solar_azimuth_angle                              7237\n",
       "L3_SO2_solar_zenith_angle                               7237\n",
       "L3_CH4_CH4_column_volume_mixing_ratio_dry_air          24765\n",
       "L3_CH4_aerosol_height                                  24765\n",
       "L3_CH4_aerosol_optical_depth                           24765\n",
       "L3_CH4_sensor_azimuth_angle                            24765\n",
       "L3_CH4_sensor_zenith_angle                             24765\n",
       "L3_CH4_solar_azimuth_angle                             24765\n",
       "L3_CH4_solar_zenith_angle                              24765\n",
       "dtype: int64"
      ]
     },
     "execution_count": 76,
     "metadata": {},
     "output_type": "execute_result"
    }
   ],
   "source": [
    "train_df.isnull().sum().tail(60)"
   ]
  },
  {
   "cell_type": "code",
   "execution_count": 77,
   "metadata": {},
   "outputs": [],
   "source": [
    "train_df['Date'] = pd.to_datetime(train_df['Date'])\n",
    "train_df['Month'] = train_df['Date'].dt.month\n",
    "train_df['Day'] = train_df['Date'].dt.day\n",
    "train_df['Dayofweek'] = train_df['Date'].dt.dayofweek\n",
    "train_df['DayOfyear'] = train_df['Date'].dt.dayofyear\n",
    "train_df['WeekOfyear'] = train_df['Date'].dt.weekofyear\n",
    "\n",
    "test_df['Date'] = pd.to_datetime(test_df['Date'])\n",
    "test_df['Month'] = test_df['Date'].dt.month\n",
    "test_df['Day'] = test_df['Date'].dt.day\n",
    "test_df['Dayofweek'] = test_df['Date'].dt.dayofweek\n",
    "test_df['DayOfyear'] = test_df['Date'].dt.dayofyear\n",
    "test_df['WeekOfyear'] = test_df['Date'].dt.weekofyear"
   ]
  },
  {
   "cell_type": "code",
   "execution_count": 79,
   "metadata": {},
   "outputs": [],
   "source": [
    "lag_features = ['relative_humidity_2m_above_ground',\n",
    "                'v_component_of_wind_10m_above_ground',\n",
    "                'L3_NO2_NO2_column_number_density',\n",
    "                'L3_HCHO_tropospheric_HCHO_column_number_density',\n",
    "                'L3_CLOUD_surface_albedo',\n",
    "                'L3_CO_CO_column_number_density',\n",
    "                'temperature_2m_above_ground',\n",
    "                'L3_CLOUD_cloud_optical_depth',\n",
    "                'L3_O3_O3_column_number_density'\n",
    "                ]\n",
    "\n",
    "for feat in lag_features:\n",
    "    for i in range(2):\n",
    "        train_df[feat+'_lag'+str(i+1)] = train_df[feat].shift(i+1)\n",
    "        test_df[feat+'_lag'+str(i+1)] = test_df[feat].shift(i+1)"
   ]
  },
  {
   "cell_type": "code",
   "execution_count": 80,
   "metadata": {},
   "outputs": [],
   "source": [
    "NO2_Column_number_density_mean=train_df['L3_NO2_NO2_slant_column_number_density'].mean()\n",
    "O3_column_number_density_mean=train_df['L3_O3_O3_column_number_density'].mean()\n",
    "CO_CO_column_number_density_mean=train_df['L3_CO_CO_column_number_density'].mean()\n",
    "CO_H2O_column_number_density_mean=train_df['L3_CO_H2O_column_number_density'].mean() \n",
    "HCHO_slant_column_number_density_mean=train_df['L3_HCHO_HCHO_slant_column_number_density'].mean()\n",
    "CLOUD_cloud_top_pressure_mean=train_df['L3_CLOUD_cloud_top_pressure'].mean()\n",
    "AER_AI_absorbing_aerosol_index_mean=train_df['L3_AER_AI_absorbing_aerosol_index'].mean()\n",
    "CH4_aerosol_optical_depth_mean=train_df['L3_CH4_aerosol_optical_depth'].mean()\n",
    "SO2_slant_column_number_density_mean=train_df['L3_SO2_SO2_slant_column_number_density'].mean()\n",
    "\n",
    "NO2_Column_number_density_mean=test_df['L3_NO2_NO2_slant_column_number_density'].mean()\n",
    "O3_column_number_density_mean=test_df['L3_O3_O3_column_number_density'].mean()\n",
    "CO_CO_column_number_density_mean=test_df['L3_CO_CO_column_number_density'].mean()\n",
    "CO_H2O_column_number_density_mean=test_df['L3_CO_H2O_column_number_density'].mean() \n",
    "HCHO_slant_column_number_density_mean=test_df['L3_HCHO_HCHO_slant_column_number_density'].mean()\n",
    "CLOUD_cloud_top_pressure_mean=test_df['L3_CLOUD_cloud_top_pressure'].mean()\n",
    "AER_AI_absorbing_aerosol_index_mean=test_df['L3_AER_AI_absorbing_aerosol_index'].mean()\n",
    "CH4_aerosol_optical_depth_mean=test_df['L3_CH4_aerosol_optical_depth'].mean()\n",
    "SO2_slant_column_number_density_mean=test_df['L3_SO2_SO2_slant_column_number_density'].mean()"
   ]
  },
  {
   "cell_type": "markdown",
   "metadata": {},
   "source": [
    "## FILLING MISSING VALUES"
   ]
  },
  {
   "cell_type": "code",
   "execution_count": 81,
   "metadata": {},
   "outputs": [],
   "source": [
    "train_df['L3_NO2_NO2_slant_column_number_density']=train_df['L3_NO2_NO2_slant_column_number_density'].fillna(NO2_Column_number_density_mean)\n",
    "train_df['L3_O3_O3_column_number_density']=train_df['L3_O3_O3_column_number_density'].fillna(O3_column_number_density_mean)\n",
    "train_df['L3_CO_CO_column_number_density']=train_df['L3_CO_CO_column_number_density'].fillna(CO_CO_column_number_density_mean)\n",
    "train_df['L3_CO_H2O_column_number_density']=train_df['L3_CO_H2O_column_number_density'].fillna(CO_H2O_column_number_density_mean)\n",
    "train_df['L3_HCHO_HCHO_slant_column_number_density']=train_df['L3_HCHO_HCHO_slant_column_number_density'].fillna(HCHO_slant_column_number_density_mean)\n",
    "train_df['L3_CLOUD_cloud_top_pressure']=train_df['L3_CLOUD_cloud_top_pressure'].fillna(CLOUD_cloud_top_pressure_mean)\n",
    "train_df['L3_AER_AI_absorbing_aerosol_index']=train_df['L3_AER_AI_absorbing_aerosol_index'].fillna(AER_AI_absorbing_aerosol_index_mean)\n",
    "train_df['L3_CH4_aerosol_optical_depth']=train_df['L3_CH4_aerosol_optical_depth'].fillna(CH4_aerosol_optical_depth_mean)\n",
    "train_df['L3_SO2_SO2_slant_column_number_density']=train_df['L3_SO2_SO2_slant_column_number_density'].fillna(SO2_slant_column_number_density_mean)\n",
    "\n",
    "\n",
    "test_df['L3_NO2_NO2_slant_column_number_density']=test_df['L3_NO2_NO2_slant_column_number_density'].fillna(NO2_Column_number_density_mean)\n",
    "test_df['L3_O3_O3_column_number_density']=test_df['L3_O3_O3_column_number_density'].fillna(O3_column_number_density_mean)\n",
    "test_df['L3_CO_CO_column_number_density']=test_df['L3_CO_CO_column_number_density'].fillna(CO_CO_column_number_density_mean)\n",
    "test_df['L3_CO_H2O_column_number_density']=test_df['L3_CO_H2O_column_number_density'].fillna(CO_H2O_column_number_density_mean)\n",
    "test_df['L3_HCHO_HCHO_slant_column_number_density']=test_df['L3_HCHO_HCHO_slant_column_number_density'].fillna(HCHO_slant_column_number_density_mean)\n",
    "test_df['L3_CLOUD_cloud_top_pressure']=test_df['L3_CLOUD_cloud_top_pressure'].fillna(CLOUD_cloud_top_pressure_mean)\n",
    "test_df['L3_AER_AI_absorbing_aerosol_index']=test_df['L3_AER_AI_absorbing_aerosol_index'].fillna(AER_AI_absorbing_aerosol_index_mean)\n",
    "test_df['L3_CH4_aerosol_optical_depth']=test_df['L3_CH4_aerosol_optical_depth'].fillna(CH4_aerosol_optical_depth_mean)\n",
    "test_df['L3_SO2_SO2_slant_column_number_density']=test_df['L3_SO2_SO2_slant_column_number_density'].fillna(SO2_slant_column_number_density_mean)"
   ]
  },
  {
   "cell_type": "code",
   "execution_count": 82,
   "metadata": {},
   "outputs": [],
   "source": [
    "train_df.fillna(-99,inplace=True)\n",
    "test_df.fillna(-99,inplace=True)"
   ]
  },
  {
   "cell_type": "code",
   "execution_count": 83,
   "metadata": {
    "scrolled": true
   },
   "outputs": [
    {
     "data": {
      "text/plain": [
       "L3_HCHO_solar_azimuth_angle                             0\n",
       "L3_HCHO_solar_zenith_angle                              0\n",
       "L3_HCHO_tropospheric_HCHO_column_number_density         0\n",
       "L3_HCHO_tropospheric_HCHO_column_number_density_amf     0\n",
       "L3_CLOUD_cloud_base_height                              0\n",
       "L3_CLOUD_cloud_base_pressure                            0\n",
       "L3_CLOUD_cloud_fraction                                 0\n",
       "L3_CLOUD_cloud_optical_depth                            0\n",
       "L3_CLOUD_cloud_top_height                               0\n",
       "L3_CLOUD_cloud_top_pressure                             0\n",
       "L3_CLOUD_sensor_azimuth_angle                           0\n",
       "L3_CLOUD_sensor_zenith_angle                            0\n",
       "L3_CLOUD_solar_azimuth_angle                            0\n",
       "L3_CLOUD_solar_zenith_angle                             0\n",
       "L3_CLOUD_surface_albedo                                 0\n",
       "L3_AER_AI_absorbing_aerosol_index                       0\n",
       "L3_AER_AI_sensor_altitude                               0\n",
       "L3_AER_AI_sensor_azimuth_angle                          0\n",
       "L3_AER_AI_sensor_zenith_angle                           0\n",
       "L3_AER_AI_solar_azimuth_angle                           0\n",
       "L3_AER_AI_solar_zenith_angle                            0\n",
       "L3_SO2_SO2_column_number_density                        0\n",
       "L3_SO2_SO2_column_number_density_amf                    0\n",
       "L3_SO2_SO2_slant_column_number_density                  0\n",
       "L3_SO2_absorbing_aerosol_index                          0\n",
       "L3_SO2_cloud_fraction                                   0\n",
       "L3_SO2_sensor_azimuth_angle                             0\n",
       "L3_SO2_sensor_zenith_angle                              0\n",
       "L3_SO2_solar_azimuth_angle                              0\n",
       "L3_SO2_solar_zenith_angle                               0\n",
       "L3_CH4_CH4_column_volume_mixing_ratio_dry_air           0\n",
       "L3_CH4_aerosol_height                                   0\n",
       "L3_CH4_aerosol_optical_depth                            0\n",
       "L3_CH4_sensor_azimuth_angle                             0\n",
       "L3_CH4_sensor_zenith_angle                              0\n",
       "L3_CH4_solar_azimuth_angle                              0\n",
       "L3_CH4_solar_zenith_angle                               0\n",
       "Month                                                   0\n",
       "Day                                                     0\n",
       "Dayofweek                                               0\n",
       "DayOfyear                                               0\n",
       "WeekOfyear                                              0\n",
       "relative_humidity_2m_above_ground_lag1                  0\n",
       "relative_humidity_2m_above_ground_lag2                  0\n",
       "v_component_of_wind_10m_above_ground_lag1               0\n",
       "v_component_of_wind_10m_above_ground_lag2               0\n",
       "L3_NO2_NO2_column_number_density_lag1                   0\n",
       "L3_NO2_NO2_column_number_density_lag2                   0\n",
       "L3_HCHO_tropospheric_HCHO_column_number_density_lag1    0\n",
       "L3_HCHO_tropospheric_HCHO_column_number_density_lag2    0\n",
       "L3_CLOUD_surface_albedo_lag1                            0\n",
       "L3_CLOUD_surface_albedo_lag2                            0\n",
       "L3_CO_CO_column_number_density_lag1                     0\n",
       "L3_CO_CO_column_number_density_lag2                     0\n",
       "temperature_2m_above_ground_lag1                        0\n",
       "temperature_2m_above_ground_lag2                        0\n",
       "L3_CLOUD_cloud_optical_depth_lag1                       0\n",
       "L3_CLOUD_cloud_optical_depth_lag2                       0\n",
       "L3_O3_O3_column_number_density_lag1                     0\n",
       "L3_O3_O3_column_number_density_lag2                     0\n",
       "dtype: int64"
      ]
     },
     "execution_count": 83,
     "metadata": {},
     "output_type": "execute_result"
    }
   ],
   "source": [
    "train_df.isnull().sum().tail(60)"
   ]
  },
  {
   "cell_type": "code",
   "execution_count": 85,
   "metadata": {},
   "outputs": [],
   "source": [
    "train_df.drop(['Place_ID X Date','Date','target_min','target_max','target_variance','target_count',\n",
    "            'L3_CH4_CH4_column_volume_mixing_ratio_dry_air',\n",
    "       'L3_CH4_aerosol_height', 'L3_CH4_aerosol_optical_depth',\n",
    "       'L3_CH4_sensor_azimuth_angle', 'L3_CH4_sensor_zenith_angle',\n",
    "       'L3_CH4_solar_azimuth_angle', 'L3_CH4_solar_zenith_angle'], axis=1, inplace=True)\n",
    "test_df.drop(['Place_ID X Date','Date', 'L3_CH4_CH4_column_volume_mixing_ratio_dry_air',\n",
    "       'L3_CH4_aerosol_height', 'L3_CH4_aerosol_optical_depth',\n",
    "       'L3_CH4_sensor_azimuth_angle', 'L3_CH4_sensor_zenith_angle',\n",
    "       'L3_CH4_solar_azimuth_angle', 'L3_CH4_solar_zenith_angle'], axis=1, inplace=True)"
   ]
  },
  {
   "cell_type": "markdown",
   "metadata": {},
   "source": [
    "# MODEL BUILDING"
   ]
  },
  {
   "cell_type": "markdown",
   "metadata": {},
   "source": [
    "## Train test split"
   ]
  },
  {
   "cell_type": "code",
   "execution_count": 88,
   "metadata": {},
   "outputs": [],
   "source": [
    "x=np.array(train_df.drop(['target'],1))\n",
    "y=np.array(train_df['target'])"
   ]
  },
  {
   "cell_type": "code",
   "execution_count": 89,
   "metadata": {},
   "outputs": [
    {
     "data": {
      "text/plain": [
       "30557"
      ]
     },
     "execution_count": 89,
     "metadata": {},
     "output_type": "execute_result"
    }
   ],
   "source": [
    "len(x)"
   ]
  },
  {
   "cell_type": "code",
   "execution_count": 90,
   "metadata": {},
   "outputs": [
    {
     "data": {
      "text/plain": [
       "30557"
      ]
     },
     "execution_count": 90,
     "metadata": {},
     "output_type": "execute_result"
    }
   ],
   "source": [
    "len(y)"
   ]
  },
  {
   "cell_type": "code",
   "execution_count": 93,
   "metadata": {},
   "outputs": [],
   "source": [
    "x_train,x_test,y_train,y_test=train_test_split(x,y,test_size=0.25,random_state=1)"
   ]
  },
  {
   "cell_type": "code",
   "execution_count": 94,
   "metadata": {},
   "outputs": [
    {
     "data": {
      "text/plain": [
       "((22917, 90), (7640, 90), (22917,), (7640,))"
      ]
     },
     "execution_count": 94,
     "metadata": {},
     "output_type": "execute_result"
    }
   ],
   "source": [
    "x_train.shape,x_test.shape,y_train.shape,y_test.shape"
   ]
  },
  {
   "cell_type": "code",
   "execution_count": 97,
   "metadata": {},
   "outputs": [
    {
     "name": "stdout",
     "output_type": "stream",
     "text": [
      "Training until validation scores don't improve for 100 rounds\n",
      "[500]\tvalid_0's rmse: 25.6418\n",
      "[1000]\tvalid_0's rmse: 24.9133\n",
      "[1500]\tvalid_0's rmse: 24.5872\n",
      "[2000]\tvalid_0's rmse: 24.3761\n",
      "[2500]\tvalid_0's rmse: 24.2359\n",
      "[3000]\tvalid_0's rmse: 24.1609\n",
      "[3500]\tvalid_0's rmse: 24.1186\n",
      "[4000]\tvalid_0's rmse: 24.0851\n",
      "Early stopping, best iteration is:\n",
      "[4282]\tvalid_0's rmse: 24.0705\n"
     ]
    }
   ],
   "source": [
    "train_data = lgb.Dataset(x_train, label=y_train)\n",
    "test_data = lgb.Dataset(x_test, label=y_test)\n",
    "\n",
    "param = {'objective': 'regression',\n",
    "         'boosting': 'gbdt',  \n",
    "         'metric': 'rmse',\n",
    "         'learning_rate': 0.05, \n",
    "         'num_iterations': 7500,\n",
    "         'max_depth': -1,\n",
    "         'min_data_in_leaf': 40,\n",
    "         'bagging_fraction': 0.8,\n",
    "         'bagging_freq': 1,\n",
    "         'feature_fraction': 0.5\n",
    "         }\n",
    "\n",
    "         \n",
    "clf = lgb.train(params=param, \n",
    "                early_stopping_rounds=100,\n",
    "                verbose_eval=500,\n",
    "                train_set=train_data,\n",
    "                valid_sets=[test_data])\n",
    "\n",
    "y_pred = clf.predict(x_test) "
   ]
  },
  {
   "cell_type": "code",
   "execution_count": 98,
   "metadata": {},
   "outputs": [
    {
     "data": {
      "text/plain": [
       "24.070549707067336"
      ]
     },
     "execution_count": 98,
     "metadata": {},
     "output_type": "execute_result"
    }
   ],
   "source": [
    "np.sqrt(mean_squared_error(y_test, y_pred))"
   ]
  },
  {
   "cell_type": "markdown",
   "metadata": {},
   "source": [
    "## TESTING PREDICTION"
   ]
  },
  {
   "cell_type": "code",
   "execution_count": 104,
   "metadata": {
    "scrolled": true
   },
   "outputs": [
    {
     "name": "stdout",
     "output_type": "stream",
     "text": [
      "Training until validation scores don't improve for 200 rounds\n",
      "[500]\tvalid_0's rmse: 25.0524\n",
      "[1000]\tvalid_0's rmse: 23.9795\n",
      "[1500]\tvalid_0's rmse: 23.5383\n",
      "[2000]\tvalid_0's rmse: 23.2866\n",
      "[2500]\tvalid_0's rmse: 23.1397\n",
      "[3000]\tvalid_0's rmse: 23.0364\n",
      "[3500]\tvalid_0's rmse: 22.952\n",
      "[4000]\tvalid_0's rmse: 22.9054\n",
      "[4500]\tvalid_0's rmse: 22.8642\n",
      "[5000]\tvalid_0's rmse: 22.8379\n",
      "[5500]\tvalid_0's rmse: 22.8051\n",
      "[6000]\tvalid_0's rmse: 22.7858\n",
      "[6500]\tvalid_0's rmse: 22.7653\n",
      "[7000]\tvalid_0's rmse: 22.7525\n",
      "[7500]\tvalid_0's rmse: 22.7412\n",
      "Did not meet early stopping. Best iteration is:\n",
      "[7497]\tvalid_0's rmse: 22.7408\n",
      "RMSE:  22.74076396391936\n",
      "Training until validation scores don't improve for 200 rounds\n",
      "[500]\tvalid_0's rmse: 28.7138\n",
      "[1000]\tvalid_0's rmse: 27.9805\n",
      "[1500]\tvalid_0's rmse: 27.5817\n",
      "[2000]\tvalid_0's rmse: 27.3494\n",
      "[2500]\tvalid_0's rmse: 27.2222\n",
      "[3000]\tvalid_0's rmse: 27.1275\n",
      "[3500]\tvalid_0's rmse: 27.0609\n",
      "[4000]\tvalid_0's rmse: 27.0054\n",
      "[4500]\tvalid_0's rmse: 26.9554\n",
      "[5000]\tvalid_0's rmse: 26.9122\n",
      "[5500]\tvalid_0's rmse: 26.898\n",
      "[6000]\tvalid_0's rmse: 26.8814\n",
      "[6500]\tvalid_0's rmse: 26.8667\n",
      "[7000]\tvalid_0's rmse: 26.8571\n",
      "Early stopping, best iteration is:\n",
      "[6997]\tvalid_0's rmse: 26.8568\n",
      "RMSE:  26.856838062611107\n",
      "Training until validation scores don't improve for 200 rounds\n",
      "[500]\tvalid_0's rmse: 24.1474\n",
      "[1000]\tvalid_0's rmse: 23.1479\n",
      "[1500]\tvalid_0's rmse: 22.7119\n",
      "[2000]\tvalid_0's rmse: 22.4679\n",
      "[2500]\tvalid_0's rmse: 22.342\n",
      "[3000]\tvalid_0's rmse: 22.235\n",
      "[3500]\tvalid_0's rmse: 22.1956\n",
      "[4000]\tvalid_0's rmse: 22.1567\n",
      "[4500]\tvalid_0's rmse: 22.1135\n",
      "[5000]\tvalid_0's rmse: 22.0814\n",
      "[5500]\tvalid_0's rmse: 22.066\n",
      "[6000]\tvalid_0's rmse: 22.0446\n",
      "[6500]\tvalid_0's rmse: 22.0276\n",
      "[7000]\tvalid_0's rmse: 22.017\n",
      "Early stopping, best iteration is:\n",
      "[7207]\tvalid_0's rmse: 22.0117\n",
      "RMSE:  22.011748538915832\n",
      "Training until validation scores don't improve for 200 rounds\n",
      "[500]\tvalid_0's rmse: 32.0725\n",
      "[1000]\tvalid_0's rmse: 31.3249\n",
      "[1500]\tvalid_0's rmse: 31.0283\n",
      "[2000]\tvalid_0's rmse: 30.7888\n",
      "[2500]\tvalid_0's rmse: 30.6155\n",
      "[3000]\tvalid_0's rmse: 30.5194\n",
      "[3500]\tvalid_0's rmse: 30.451\n",
      "[4000]\tvalid_0's rmse: 30.3979\n",
      "[4500]\tvalid_0's rmse: 30.3604\n",
      "[5000]\tvalid_0's rmse: 30.3335\n",
      "[5500]\tvalid_0's rmse: 30.307\n",
      "[6000]\tvalid_0's rmse: 30.2794\n",
      "[6500]\tvalid_0's rmse: 30.2681\n",
      "[7000]\tvalid_0's rmse: 30.2602\n",
      "[7500]\tvalid_0's rmse: 30.2518\n",
      "Did not meet early stopping. Best iteration is:\n",
      "[7488]\tvalid_0's rmse: 30.2517\n",
      "RMSE:  30.251712819087984\n",
      "Training until validation scores don't improve for 200 rounds\n",
      "[500]\tvalid_0's rmse: 23.8763\n",
      "[1000]\tvalid_0's rmse: 22.8659\n",
      "[1500]\tvalid_0's rmse: 22.4713\n",
      "[2000]\tvalid_0's rmse: 22.261\n",
      "[2500]\tvalid_0's rmse: 22.145\n",
      "[3000]\tvalid_0's rmse: 22.0624\n",
      "[3500]\tvalid_0's rmse: 22.0052\n",
      "[4000]\tvalid_0's rmse: 21.9568\n",
      "[4500]\tvalid_0's rmse: 21.9298\n",
      "[5000]\tvalid_0's rmse: 21.9085\n",
      "[5500]\tvalid_0's rmse: 21.8889\n",
      "[6000]\tvalid_0's rmse: 21.8832\n",
      "Early stopping, best iteration is:\n",
      "[6148]\tvalid_0's rmse: 21.8769\n",
      "RMSE:  21.876872925723617\n",
      "Training until validation scores don't improve for 200 rounds\n",
      "[500]\tvalid_0's rmse: 24.3375\n",
      "[1000]\tvalid_0's rmse: 23.4073\n",
      "[1500]\tvalid_0's rmse: 22.9596\n",
      "[2000]\tvalid_0's rmse: 22.7042\n",
      "[2500]\tvalid_0's rmse: 22.5397\n",
      "[3000]\tvalid_0's rmse: 22.4026\n",
      "Early stopping, best iteration is:\n",
      "[3087]\tvalid_0's rmse: 22.3951\n",
      "RMSE:  22.395145117688763\n",
      "Training until validation scores don't improve for 200 rounds\n",
      "[500]\tvalid_0's rmse: 25.6669\n",
      "[1000]\tvalid_0's rmse: 24.8009\n",
      "[1500]\tvalid_0's rmse: 24.3069\n",
      "[2000]\tvalid_0's rmse: 24.1294\n",
      "[2500]\tvalid_0's rmse: 23.9845\n",
      "[3000]\tvalid_0's rmse: 23.8623\n",
      "[3500]\tvalid_0's rmse: 23.7799\n",
      "[4000]\tvalid_0's rmse: 23.7292\n",
      "[4500]\tvalid_0's rmse: 23.6742\n",
      "[5000]\tvalid_0's rmse: 23.6431\n",
      "[5500]\tvalid_0's rmse: 23.6206\n",
      "[6000]\tvalid_0's rmse: 23.605\n",
      "Early stopping, best iteration is:\n",
      "[5971]\tvalid_0's rmse: 23.6043\n",
      "RMSE:  23.604258293853807\n",
      "Training until validation scores don't improve for 200 rounds\n",
      "[500]\tvalid_0's rmse: 24.797\n",
      "[1000]\tvalid_0's rmse: 23.7837\n",
      "[1500]\tvalid_0's rmse: 23.3529\n",
      "[2000]\tvalid_0's rmse: 23.0941\n",
      "[2500]\tvalid_0's rmse: 22.9345\n",
      "[3000]\tvalid_0's rmse: 22.832\n",
      "[3500]\tvalid_0's rmse: 22.7887\n",
      "[4000]\tvalid_0's rmse: 22.7384\n",
      "[4500]\tvalid_0's rmse: 22.7127\n",
      "[5000]\tvalid_0's rmse: 22.6685\n",
      "[5500]\tvalid_0's rmse: 22.6505\n",
      "[6000]\tvalid_0's rmse: 22.6412\n",
      "[6500]\tvalid_0's rmse: 22.6251\n",
      "[7000]\tvalid_0's rmse: 22.618\n",
      "[7500]\tvalid_0's rmse: 22.6151\n",
      "Did not meet early stopping. Best iteration is:\n",
      "[7498]\tvalid_0's rmse: 22.6147\n",
      "RMSE:  22.614686957273296\n",
      "Training until validation scores don't improve for 200 rounds\n",
      "[500]\tvalid_0's rmse: 25.4538\n",
      "[1000]\tvalid_0's rmse: 24.603\n",
      "[1500]\tvalid_0's rmse: 24.1187\n",
      "[2000]\tvalid_0's rmse: 23.8756\n",
      "[2500]\tvalid_0's rmse: 23.7115\n",
      "[3000]\tvalid_0's rmse: 23.6127\n",
      "[3500]\tvalid_0's rmse: 23.5549\n",
      "[4000]\tvalid_0's rmse: 23.512\n",
      "[4500]\tvalid_0's rmse: 23.4698\n",
      "Early stopping, best iteration is:\n",
      "[4750]\tvalid_0's rmse: 23.4486\n",
      "RMSE:  23.44861871003868\n",
      "Training until validation scores don't improve for 200 rounds\n",
      "[500]\tvalid_0's rmse: 30.7286\n",
      "[1000]\tvalid_0's rmse: 29.851\n",
      "[1500]\tvalid_0's rmse: 29.435\n",
      "[2000]\tvalid_0's rmse: 29.2085\n",
      "[2500]\tvalid_0's rmse: 29.0417\n",
      "[3000]\tvalid_0's rmse: 28.9251\n",
      "[3500]\tvalid_0's rmse: 28.8297\n",
      "[4000]\tvalid_0's rmse: 28.7876\n",
      "[4500]\tvalid_0's rmse: 28.7551\n",
      "[5000]\tvalid_0's rmse: 28.7228\n",
      "[5500]\tvalid_0's rmse: 28.695\n",
      "[6000]\tvalid_0's rmse: 28.6809\n",
      "[6500]\tvalid_0's rmse: 28.6693\n",
      "[7000]\tvalid_0's rmse: 28.6562\n",
      "[7500]\tvalid_0's rmse: 28.649\n",
      "Did not meet early stopping. Best iteration is:\n",
      "[7486]\tvalid_0's rmse: 28.6487\n",
      "RMSE:  28.64865923057956\n"
     ]
    }
   ],
   "source": [
    "errlgb = []\n",
    "y_pred_totlgb = []\n",
    "\n",
    "fold = KFold(n_splits=10, shuffle=True, random_state=42)\n",
    "\n",
    "for train_index, test_index in fold.split(x):\n",
    "    \n",
    "    x_train, x_test = x[train_index], x[test_index]\n",
    "    y_train, y_test = y[train_index], y[test_index]\n",
    "    \n",
    "    train_data = lgb.Dataset(x_train, label=y_train)\n",
    "    test_data = lgb.Dataset(x_test, label=y_test)\n",
    "    \n",
    "    clf = lgb.train(params=param, \n",
    "                     early_stopping_rounds=200,\n",
    "                     verbose_eval=500,\n",
    "                     train_set=train_data,\n",
    "                     valid_sets=[test_data])\n",
    "\n",
    "    y_pred = clf.predict(x_test) \n",
    "\n",
    "    print(\"RMSE: \", np.sqrt(mean_squared_error(y_test, y_pred)))\n",
    "    \n",
    "    errlgb.append(np.sqrt(mean_squared_error(y_test, y_pred)))\n",
    "    \n",
    "    p = clf.predict(test_df)\n",
    "    \n",
    "    y_pred_totlgb.append(p)"
   ]
  },
  {
   "cell_type": "code",
   "execution_count": 105,
   "metadata": {},
   "outputs": [
    {
     "data": {
      "text/plain": [
       "[array([56.98261225, 34.91216573, 37.1369619 , ..., 54.9858163 ,\n",
       "        35.88709198, 33.90851985]),\n",
       " array([44.90021624, 34.71941388, 29.73909075, ..., 58.28843879,\n",
       "        39.13947611, 30.64930186]),\n",
       " array([63.15854221, 24.39026015, 30.57436861, ..., 53.22962207,\n",
       "        37.82661271, 34.37397189]),\n",
       " array([46.44992413, 38.40833904, 41.11055253, ..., 54.04096003,\n",
       "        41.56883894, 34.34290668]),\n",
       " array([51.09060599, 25.06799382, 38.21619499, ..., 53.3697738 ,\n",
       "        42.48712767, 28.71677776]),\n",
       " array([53.51905876, 25.08528838, 49.96267182, ..., 56.28213134,\n",
       "        38.57565511, 38.42532625]),\n",
       " array([56.45890579, 28.04897712, 36.31830051, ..., 54.46232783,\n",
       "        40.26088904, 28.15836438]),\n",
       " array([85.91801199, 36.32726237, 49.23574227, ..., 50.76710274,\n",
       "        45.07290248, 27.28111451]),\n",
       " array([62.05492436, 26.72841965, 25.31007689, ..., 55.44181408,\n",
       "        42.0022243 , 32.80407747]),\n",
       " array([78.13286963, 21.37808729, 30.06700784, ..., 48.30846417,\n",
       "        36.57790856, 26.0287999 ])]"
      ]
     },
     "execution_count": 105,
     "metadata": {},
     "output_type": "execute_result"
    }
   ],
   "source": [
    "prediction=y_pred_totlgb\n",
    "prediction"
   ]
  },
  {
   "cell_type": "code",
   "execution_count": 108,
   "metadata": {
    "scrolled": false
   },
   "outputs": [
    {
     "data": {
      "text/plain": [
       "array([59.86656714, 29.50662074, 36.76709681, ..., 53.91764511,\n",
       "       39.93987269, 31.46891605])"
      ]
     },
     "execution_count": 108,
     "metadata": {},
     "output_type": "execute_result"
    }
   ],
   "source": [
    "preds=np.mean(y_pred_totlgb,0)\n",
    "preds"
   ]
  },
  {
   "cell_type": "code",
   "execution_count": 109,
   "metadata": {},
   "outputs": [],
   "source": [
    "Submission=pd.read_csv('Submission.csv')"
   ]
  },
  {
   "cell_type": "code",
   "execution_count": 110,
   "metadata": {},
   "outputs": [
    {
     "data": {
      "text/html": [
       "<div>\n",
       "<style scoped>\n",
       "    .dataframe tbody tr th:only-of-type {\n",
       "        vertical-align: middle;\n",
       "    }\n",
       "\n",
       "    .dataframe tbody tr th {\n",
       "        vertical-align: top;\n",
       "    }\n",
       "\n",
       "    .dataframe thead th {\n",
       "        text-align: right;\n",
       "    }\n",
       "</style>\n",
       "<table border=\"1\" class=\"dataframe\">\n",
       "  <thead>\n",
       "    <tr style=\"text-align: right;\">\n",
       "      <th></th>\n",
       "      <th>Unnamed: 0</th>\n",
       "      <th>Place_ID X Date</th>\n",
       "      <th>target</th>\n",
       "    </tr>\n",
       "  </thead>\n",
       "  <tbody>\n",
       "    <tr>\n",
       "      <th>0</th>\n",
       "      <td>0</td>\n",
       "      <td>0OS9LVX X 2020-01-02</td>\n",
       "      <td>38</td>\n",
       "    </tr>\n",
       "    <tr>\n",
       "      <th>1</th>\n",
       "      <td>1</td>\n",
       "      <td>0OS9LVX X 2020-01-03</td>\n",
       "      <td>30</td>\n",
       "    </tr>\n",
       "    <tr>\n",
       "      <th>2</th>\n",
       "      <td>2</td>\n",
       "      <td>0OS9LVX X 2020-01-04</td>\n",
       "      <td>35</td>\n",
       "    </tr>\n",
       "    <tr>\n",
       "      <th>3</th>\n",
       "      <td>3</td>\n",
       "      <td>0OS9LVX X 2020-01-05</td>\n",
       "      <td>33</td>\n",
       "    </tr>\n",
       "    <tr>\n",
       "      <th>4</th>\n",
       "      <td>4</td>\n",
       "      <td>0OS9LVX X 2020-01-06</td>\n",
       "      <td>32</td>\n",
       "    </tr>\n",
       "  </tbody>\n",
       "</table>\n",
       "</div>"
      ],
      "text/plain": [
       "   Unnamed: 0       Place_ID X Date  target\n",
       "0           0  0OS9LVX X 2020-01-02      38\n",
       "1           1  0OS9LVX X 2020-01-03      30\n",
       "2           2  0OS9LVX X 2020-01-04      35\n",
       "3           3  0OS9LVX X 2020-01-05      33\n",
       "4           4  0OS9LVX X 2020-01-06      32"
      ]
     },
     "execution_count": 110,
     "metadata": {},
     "output_type": "execute_result"
    }
   ],
   "source": [
    "Submission.head()"
   ]
  },
  {
   "cell_type": "code",
   "execution_count": 112,
   "metadata": {},
   "outputs": [],
   "source": [
    "Submission['target']=preds"
   ]
  },
  {
   "cell_type": "code",
   "execution_count": 113,
   "metadata": {},
   "outputs": [],
   "source": [
    "Submission.to_csv('Submission11.csv',index=False)"
   ]
  },
  {
   "cell_type": "code",
   "execution_count": 114,
   "metadata": {},
   "outputs": [
    {
     "data": {
      "text/plain": [
       "24.4449304619692"
      ]
     },
     "execution_count": 114,
     "metadata": {},
     "output_type": "execute_result"
    }
   ],
   "source": [
    "np.mean(errlgb,0)"
   ]
  },
  {
   "cell_type": "code",
   "execution_count": null,
   "metadata": {},
   "outputs": [],
   "source": []
  }
 ],
 "metadata": {
  "kernelspec": {
   "display_name": "Python 3",
   "language": "python",
   "name": "python3"
  },
  "language_info": {
   "codemirror_mode": {
    "name": "ipython",
    "version": 3
   },
   "file_extension": ".py",
   "mimetype": "text/x-python",
   "name": "python",
   "nbconvert_exporter": "python",
   "pygments_lexer": "ipython3",
   "version": "3.7.7"
  }
 },
 "nbformat": 4,
 "nbformat_minor": 4
}
